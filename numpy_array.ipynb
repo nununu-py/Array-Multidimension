{
 "cells": [
  {
   "cell_type": "code",
   "execution_count": 2,
   "metadata": {},
   "outputs": [],
   "source": [
    "import numpy as np"
   ]
  },
  {
   "cell_type": "code",
   "execution_count": 26,
   "metadata": {},
   "outputs": [
    {
     "name": "stdout",
     "output_type": "stream",
     "text": [
      "[1 2 3]\n",
      "[1 3 5 7 9]\n",
      "[1.  4.5 8. ]\n"
     ]
    }
   ],
   "source": [
    "# create vector  (array 1D)\n",
    "\n",
    "a = np.array((1, 2, 3))\n",
    "a = np.array([1, 2, 3])\n",
    "\n",
    "print(a)\n",
    "\n",
    "b = np.arange(1, 10, 2)\n",
    "c = np.linspace(1, 8, 3)\n",
    "\n",
    "print(b)\n",
    "print(c)\n"
   ]
  },
  {
   "cell_type": "code",
   "execution_count": 27,
   "metadata": {},
   "outputs": [
    {
     "name": "stdout",
     "output_type": "stream",
     "text": [
      "[[ 1  2  3]\n",
      " [ 4  4  5]\n",
      " [ 8  9 11]]\n",
      "2\n",
      "(3, 3)\n",
      "[[ 33  37  46]\n",
      " [ 60  69  87]\n",
      " [132 151 190]]\n"
     ]
    }
   ],
   "source": [
    "# create matrix (array 2D)\n",
    "\n",
    "d = np.array([ (1, 2, 3), \n",
    "               (4, 4, 5),\n",
    "               (8, 9, 11) ])\n",
    "\n",
    "print(d)\n",
    "print(d.ndim)\n",
    "print(d.shape)\n",
    "\n",
    "dd = d.dot(d)\n",
    "print(dd)"
   ]
  },
  {
   "cell_type": "code",
   "execution_count": 28,
   "metadata": {},
   "outputs": [
    {
     "name": "stdout",
     "output_type": "stream",
     "text": [
      "[1 2 3]\n",
      "2\n"
     ]
    }
   ],
   "source": [
    "# access matrix\n",
    "\n",
    "print(d[0])\n",
    "print(d[0][1])"
   ]
  },
  {
   "cell_type": "code",
   "execution_count": 29,
   "metadata": {},
   "outputs": [
    {
     "name": "stdout",
     "output_type": "stream",
     "text": [
      "[[[1 2 3]\n",
      "  [4 5 6]\n",
      "  [7 8 9]]\n",
      "\n",
      " [[1 2 3]\n",
      "  [4 5 6]\n",
      "  [7 8 9]]]\n",
      "3\n",
      "(2, 3, 3)\n"
     ]
    }
   ],
   "source": [
    "# create multiple matrix (array 3D)\n",
    "\n",
    "nMatrix = np.array(\n",
    "    [\n",
    "        [\n",
    "        (1, 2, 3), \n",
    "        (4, 5, 6), \n",
    "        (7, 8, 9)\n",
    "        ],\n",
    "\n",
    "        [\n",
    "        (1, 2, 3), \n",
    "        (4, 5, 6), \n",
    "        (7, 8, 9)\n",
    "        ]\n",
    "              \n",
    "    ])\n",
    "\n",
    "print(nMatrix)\n",
    "print(nMatrix.ndim)\n",
    "print(nMatrix.shape)\n"
   ]
  },
  {
   "cell_type": "code",
   "execution_count": 30,
   "metadata": {},
   "outputs": [
    {
     "name": "stdout",
     "output_type": "stream",
     "text": [
      "[[[[ 1  2  3]\n",
      "   [ 4  5  6]]\n",
      "\n",
      "  [[ 6  7  8]\n",
      "   [ 9 10 11]]]\n",
      "\n",
      "\n",
      " [[[ 1  2  3]\n",
      "   [ 4  5  6]]\n",
      "\n",
      "  [[ 6  7  8]\n",
      "   [ 9 10 11]]]]\n",
      "4\n",
      "(2, 2, 2, 3)\n"
     ]
    }
   ],
   "source": [
    "# create 4D array\n",
    "\n",
    "arr4D = np.array(\n",
    "[\n",
    "    [\n",
    "        [[1, 2, 3],\n",
    "         [4, 5, 6]],\n",
    "\n",
    "        [[6, 7, 8],\n",
    "         [9, 10, 11]]\n",
    "    ],\n",
    "\n",
    "    [\n",
    "        [[1, 2, 3],\n",
    "         [4, 5, 6]],\n",
    "\n",
    "        [[6, 7, 8],\n",
    "         [9, 10, 11]]\n",
    "    ]\n",
    "\n",
    "])\n",
    "\n",
    "print(arr4D)\n",
    "print(arr4D.ndim)\n",
    "print(arr4D.shape)"
   ]
  },
  {
   "cell_type": "code",
   "execution_count": 8,
   "metadata": {},
   "outputs": [
    {
     "name": "stdout",
     "output_type": "stream",
     "text": [
      "\n",
      "arr 3D \n",
      "  [[[ 0  1]\n",
      "  [ 2  3]\n",
      "  [ 4  5]]\n",
      "\n",
      " [[ 6  7]\n",
      "  [ 8  9]\n",
      "  [10 11]]\n",
      "\n",
      " [[12 13]\n",
      "  [14 15]\n",
      "  [16 17]]\n",
      "\n",
      " [[18 19]\n",
      "  [20 21]\n",
      "  [22 23]]]\n",
      "\n",
      "arr 3D reshape \n",
      " [[[ 0  1  2]\n",
      "  [ 3  4  5]]\n",
      "\n",
      " [[ 6  7  8]\n",
      "  [ 9 10 11]]\n",
      "\n",
      " [[12 13 14]\n",
      "  [15 16 17]]\n",
      "\n",
      " [[18 19 20]\n",
      "  [21 22 23]]]\n"
     ]
    }
   ],
   "source": [
    "# create array using arange\n",
    "\n",
    "arr = np.arange(24).reshape(4, 3, 2)\n",
    "print(\"\\narr 3D \\n \",arr)\n",
    "\n",
    "re_arr = arr.reshape(4,2,3)\n",
    "print(\"\\narr 3D reshape \\n\",re_arr)\n"
   ]
  },
  {
   "cell_type": "code",
   "execution_count": 31,
   "metadata": {},
   "outputs": [
    {
     "name": "stdout",
     "output_type": "stream",
     "text": [
      "[[1 2 3]\n",
      " [4 5 6]\n",
      " [7 8 9]]\n",
      "[4 5 6]\n",
      "6\n"
     ]
    }
   ],
   "source": [
    "# access index from array 3D\n",
    "\n",
    "m = nMatrix[0]\n",
    "m_row = nMatrix[0][1]\n",
    "m_row_col = nMatrix[0][1][2]\n",
    "\n",
    "print(m)\n",
    "print(m_row)\n",
    "print(m_row_col)"
   ]
  },
  {
   "cell_type": "code",
   "execution_count": 10,
   "metadata": {},
   "outputs": [
    {
     "name": "stdout",
     "output_type": "stream",
     "text": [
      "[[0. 0. 0. 0. 0.]\n",
      " [0. 0. 0. 0. 0.]\n",
      " [0. 0. 0. 0. 0.]\n",
      " [0. 0. 0. 0. 0.]\n",
      " [0. 0. 0. 0. 0.]]\n"
     ]
    }
   ],
   "source": [
    "# matrix with values = 0\n",
    "\n",
    "f = np.zeros([5, 5])\n",
    "\n",
    "print(f)"
   ]
  },
  {
   "cell_type": "code",
   "execution_count": 11,
   "metadata": {},
   "outputs": [
    {
     "name": "stdout",
     "output_type": "stream",
     "text": [
      "[[1. 1. 1. 1. 1.]\n",
      " [1. 1. 1. 1. 1.]\n",
      " [1. 1. 1. 1. 1.]\n",
      " [1. 1. 1. 1. 1.]]\n"
     ]
    }
   ],
   "source": [
    "# matrix with values = 1\n",
    "\n",
    "g = np.ones((4, 5))\n",
    "\n",
    "print(g)"
   ]
  },
  {
   "cell_type": "code",
   "execution_count": 12,
   "metadata": {},
   "outputs": [
    {
     "name": "stdout",
     "output_type": "stream",
     "text": [
      "[[1. 0. 0. 0. 0.]\n",
      " [0. 1. 0. 0. 0.]\n",
      " [0. 0. 1. 0. 0.]\n",
      " [0. 0. 0. 1. 0.]\n",
      " [0. 0. 0. 0. 1.]]\n"
     ]
    }
   ],
   "source": [
    "# matrix identity\n",
    "\n",
    "h = np.identity(5)\n",
    "\n",
    "print(h)"
   ]
  },
  {
   "cell_type": "code",
   "execution_count": 13,
   "metadata": {},
   "outputs": [
    {
     "name": "stdout",
     "output_type": "stream",
     "text": [
      "[[1. 0. 0. 0. 0.]\n",
      " [0. 1. 0. 0. 0.]\n",
      " [0. 0. 1. 0. 0.]\n",
      " [0. 0. 0. 1. 0.]\n",
      " [0. 0. 0. 0. 1.]]\n"
     ]
    }
   ],
   "source": [
    "# matrix identity\n",
    "\n",
    "i = np.eye(5)\n",
    "\n",
    "print(i)"
   ]
  },
  {
   "cell_type": "code",
   "execution_count": 14,
   "metadata": {},
   "outputs": [
    {
     "name": "stdout",
     "output_type": "stream",
     "text": [
      "matrix 0 = \n",
      " [[1 2 3]\n",
      " [4 5 6]\n",
      " [7 8 9]]\n",
      "\t matrix 0 row 0 = [1 2 3]\n",
      "\t\t matrix 0 row 0 col 0 = 1\n",
      "\t\t matrix 0 row 0 col 1 = 2\n",
      "\t\t matrix 0 row 0 col 2 = 3\n",
      "\t matrix 0 row 1 = [4 5 6]\n",
      "\t\t matrix 0 row 1 col 0 = 4\n",
      "\t\t matrix 0 row 1 col 1 = 5\n",
      "\t\t matrix 0 row 1 col 2 = 6\n",
      "\t matrix 0 row 2 = [7 8 9]\n",
      "\t\t matrix 0 row 2 col 0 = 7\n",
      "\t\t matrix 0 row 2 col 1 = 8\n",
      "\t\t matrix 0 row 2 col 2 = 9\n",
      "matrix 1 = \n",
      " [[1 2 3]\n",
      " [4 5 6]\n",
      " [7 8 9]]\n",
      "\t matrix 1 row 0 = [1 2 3]\n",
      "\t\t matrix 1 row 0 col 0 = 1\n",
      "\t\t matrix 1 row 0 col 1 = 2\n",
      "\t\t matrix 1 row 0 col 2 = 3\n",
      "\t matrix 1 row 1 = [4 5 6]\n",
      "\t\t matrix 1 row 1 col 0 = 4\n",
      "\t\t matrix 1 row 1 col 1 = 5\n",
      "\t\t matrix 1 row 1 col 2 = 6\n",
      "\t matrix 1 row 2 = [7 8 9]\n",
      "\t\t matrix 1 row 2 col 0 = 7\n",
      "\t\t matrix 1 row 2 col 1 = 8\n",
      "\t\t matrix 1 row 2 col 2 = 9\n"
     ]
    }
   ],
   "source": [
    "# Looping in Arr 3D\n",
    "\n",
    "for i in range(len(nMatrix)):\n",
    "    print(f\"matrix {i} = \\n {nMatrix[i]}\")\n",
    "    for row in range(len(nMatrix[i])):\n",
    "        print(f\"\\t matrix {i} row {row} = {nMatrix[i][row]}\")\n",
    "        for column in range(len(nMatrix[i][row])):\n",
    "             print(f\"\\t\\t matrix {i} row {row} col {column} = {nMatrix[i][row][column]}\")\n"
   ]
  }
 ],
 "metadata": {
  "kernelspec": {
   "display_name": "Python 3",
   "language": "python",
   "name": "python3"
  },
  "language_info": {
   "codemirror_mode": {
    "name": "ipython",
    "version": 3
   },
   "file_extension": ".py",
   "mimetype": "text/x-python",
   "name": "python",
   "nbconvert_exporter": "python",
   "pygments_lexer": "ipython3",
   "version": "3.10.5"
  },
  "orig_nbformat": 4,
  "vscode": {
   "interpreter": {
    "hash": "6b225b10b33d1a4607d1b0f57471523d46d84b9d8aa7df81f56ae701e53c4bfe"
   }
  }
 },
 "nbformat": 4,
 "nbformat_minor": 2
}
